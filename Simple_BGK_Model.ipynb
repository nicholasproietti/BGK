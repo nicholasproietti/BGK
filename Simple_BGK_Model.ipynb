{
 "cells": [
  {
   "cell_type": "code",
   "execution_count": null,
   "id": "6cfe3b73",
   "metadata": {
    "scrolled": true
   },
   "outputs": [],
   "source": [
    "# Time-dependent and spatial-dependent evolutions for the distribution function using the BGK (relaxation) collision operator\n",
    "# Author: Nicholas Proietti\n",
    "\n",
    "# using necessary packages\n",
    "using LaTeXStrings, Markdown, DataFrames, Queryverse, Plots, Printf\n",
    " \n",
    "df = load(\"coronal_loop_data.csv\", spacedelim=true, header_exists=true) |> DataFrame"
   ]
  },
  {
   "cell_type": "code",
   "execution_count": null,
   "id": "1d92602c",
   "metadata": {},
   "outputs": [],
   "source": [
    "println(\"BGK Equation\")\n",
    "println(\"Consider a single species with a constant collisional frequency\")\n",
    "L\"\"\"\\left(\\dfrac{\\partial f_s}{\\partial t} \\right)_{collisions} \\\n",
    "    = \\\n",
    "    v_{ss}(F_s - f_s) \\ \"\"\"\n",
    "\n",
    "#= Reference: \n",
    "Eq. (26)\n",
    "Bradshaw, S.J., Raymond, J. Collisional and Radiative Processes in Optically Thin Plasmas. Space Sci Rev 178, 271–306 (2013). \n",
    "https://doi.org/10.1007/s11214-013-9970-0\n",
    "=#"
   ]
  },
  {
   "cell_type": "code",
   "execution_count": null,
   "id": "6365456f",
   "metadata": {},
   "outputs": [],
   "source": [
    "m_e = 9.11E-28 # electron mass [g]\n",
    "k = 1.38E-16 # boltzmann constant [erg*K^-1]\n",
    "v = range(1e10, -1e10, step=-1e8) # velocity [cm/s]\n",
    "\n",
    "T_M = 1e6 # temperature of Maxwellian [K]\n",
    "T_N = 2.5e7 # temperature of chosen initial distribution [K]\n",
    "\n",
    "function Maxwellian(v_Max, T_Max)\n",
    "    ```Maxwellian distribution function for particles moving in only one direction```\n",
    "    normal = (m_e/(2*pi*k*T_Max))^1.5\n",
    "    exp_term = exp(-((m_e).*v_Max.*v_Max)/(3*k*T_Max))\n",
    "    return exp_term\n",
    "end\n"
   ]
  },
  {
   "cell_type": "code",
   "execution_count": null,
   "id": "5f5710d5",
   "metadata": {},
   "outputs": [],
   "source": [
    "# Initially comparing chosen distribution f_s to Maxwellian F_s\n",
    "plot(v, Maxwellian.(v, T_M), label= L\"F_s\" * \" (Maxwellian)\")\n",
    "plot!(v, Maxwellian.(v, T_N), linestyle = :dash, label= L\"f_s\")\n",
    "xlabel!(\"velocity (cm/s)\")\n",
    "ylabel!(\"probability density\")\n",
    "savefig(\"BGK_initial.png\")"
   ]
  },
  {
   "cell_type": "code",
   "execution_count": null,
   "id": "2d79afd1",
   "metadata": {},
   "outputs": [],
   "source": [
    "# Temporal discretization \n",
    "\n",
    "v_col = 1\n",
    "\n",
    "dt = 10^(-5) # timestep\n",
    "t = range(0, 3.0, step=dt)\n",
    "\n",
    "f_s0 = Maxwellian.(v, T_N)\n",
    "f_s_exp = [f_s0] # explicit method\n",
    "f_s_imp = [f_s0] # implicit method\n",
    "F_s = Maxwellian.(v, T_M)\n",
    "\n",
    "for it in 1:length(t)-1\n",
    "    push!(f_s_exp, dt*v_col*(F_s - f_s_exp[it]) + f_s_exp[it])\n",
    "    push!(f_s_imp, (f_s_imp[it] + v_col*F_s*dt)/(1 + v_col*dt))\n",
    "end\n",
    "\n",
    "frame_rate = 15 # frames per second for gifs\n",
    "\n",
    "anim_exp = @animate for i in 1:1000:length(t)\n",
    "           plot(F_s; label=L\"F_s\")\n",
    "           plot!(f_s_exp[i]; linestyle = :dash, label=@sprintf(\"f_s at t = %.2f s\", t[i]), ylims=(0.0,1.5))\n",
    "           xlabel!(\"v\")\n",
    "           ylabel!(\"probability density\")\n",
    "           title!(\"Simple BGK Model (explicit method)\")\n",
    "       end;\n",
    "\n",
    "gif(anim_exp, \"Simple_BGK_Explicit.gif\"; fps=frame_rate)\n",
    "\n",
    "anim_imp = @animate for i in 1:1000:length(t)\n",
    "           plot(F_s; label=L\"F_s\")\n",
    "           plot!(f_s_imp[i]; linestyle = :dash, label=@sprintf(\"f_s at t = %.2f s\", t[i]), ylims=(0.0,1.5))\n",
    "           xlabel!(\"v\")\n",
    "           ylabel!(\"probability density\")\n",
    "           title!(\"Simple BGK Model (implicit method)\")\n",
    "       end;\n",
    "\n",
    "gif(anim_imp, \"Simple_BGK_Implicit.gif\"; fps=frame_rate)\n",
    "\n",
    "anim_both = @animate for i in 1:1000:length(t)\n",
    "           a = plot(F_s; label=L\"F_s\")\n",
    "           a = plot!(f_s_exp[i]; linestyle = :dash, label=@sprintf(\"f_s at t = %.2f s\", t[i]), ylims=(0.0,1.5))\n",
    "           a = title!(\"explicit\")\n",
    "           b = plot(F_s; label=L\"F_s\")\n",
    "           b = plot!(f_s_imp[i]; linestyle = :dash, label=@sprintf(\"f_s at t = %.2f s\", t[i]), ylims=(0.0,1.5))\n",
    "           b = title!(\"implicit\")\n",
    "           plot(a, b, layout = (1, 2), legend = true)\n",
    "           xlabel!(\"v\")\n",
    "           ylabel!(\"probability density\")\n",
    "            \n",
    "       end;\n",
    "\n",
    "gif(anim_both, \"Simple_BGK_Time_Discretization_Both.gif\"; fps=frame_rate)"
   ]
  }
 ],
 "metadata": {
  "@webio": {
   "lastCommId": null,
   "lastKernelId": null
  },
  "kernelspec": {
   "display_name": "Julia 1.7.0",
   "language": "julia",
   "name": "julia-1.7"
  },
  "language_info": {
   "file_extension": ".jl",
   "mimetype": "application/julia",
   "name": "julia",
   "version": "1.7.0"
  }
 },
 "nbformat": 4,
 "nbformat_minor": 5
}
